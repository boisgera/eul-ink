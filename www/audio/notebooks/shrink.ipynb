{
 "cells": [
  {
   "cell_type": "code",
   "execution_count": 73,
   "metadata": {
    "collapsed": true
   },
   "outputs": [],
   "source": [
    "from numpy import *\n",
    "from pylab import *\n",
    "%matplotlib inline\n",
    "from bitstream import BitStream\n",
    "from audio.coders import rice\n",
    "import audio.wave as wave\n",
    "import audio.io"
   ]
  },
  {
   "cell_type": "markdown",
   "metadata": {},
   "source": [
    "Preamble: Rice Coder\n",
    "============"
   ]
  },
  {
   "cell_type": "code",
   "execution_count": 3,
   "metadata": {
    "collapsed": false
   },
   "outputs": [
    {
     "data": {
      "text/plain": [
       "0000000000101010"
      ]
     },
     "execution_count": 3,
     "metadata": {},
     "output_type": "execute_result"
    }
   ],
   "source": [
    "BitStream(42, uint16)"
   ]
  },
  {
   "cell_type": "code",
   "execution_count": 6,
   "metadata": {
    "collapsed": false
   },
   "outputs": [
    {
     "name": "stdout",
     "output_type": "stream",
     "text": [
      "5\n"
     ]
    }
   ],
   "source": [
    "frame = [0,0,1,1,7,255,301,16,78, 100, 0,0,0, 6]\n",
    "r = rice.from_frame(frame, signed=False)\n",
    "print r.b"
   ]
  },
  {
   "cell_type": "code",
   "execution_count": 8,
   "metadata": {
    "collapsed": false
   },
   "outputs": [
    {
     "data": {
      "text/plain": [
       "000000"
      ]
     },
     "execution_count": 8,
     "metadata": {},
     "output_type": "execute_result"
    }
   ],
   "source": [
    "BitStream(0,r)"
   ]
  },
  {
   "cell_type": "code",
   "execution_count": 9,
   "metadata": {
    "collapsed": false
   },
   "outputs": [
    {
     "data": {
      "text/plain": [
       "000010"
      ]
     },
     "execution_count": 9,
     "metadata": {},
     "output_type": "execute_result"
    }
   ],
   "source": [
    "BitStream(1,r)"
   ]
  },
  {
   "cell_type": "code",
   "execution_count": 10,
   "metadata": {
    "collapsed": false
   },
   "outputs": [
    {
     "data": {
      "text/plain": [
       "1111111111110"
      ]
     },
     "execution_count": 10,
     "metadata": {},
     "output_type": "execute_result"
    }
   ],
   "source": [
    "BitStream(255, r)"
   ]
  },
  {
   "cell_type": "code",
   "execution_count": 7,
   "metadata": {
    "collapsed": false
   },
   "outputs": [
    {
     "data": {
      "text/plain": [
       "000000000000000010000010001110111111111111001101111111111010000001110110001001110000000000000000000001100"
      ]
     },
     "execution_count": 7,
     "metadata": {},
     "output_type": "execute_result"
    }
   ],
   "source": [
    "BitStream(frame, r)"
   ]
  },
  {
   "cell_type": "code",
   "execution_count": 11,
   "metadata": {
    "collapsed": false
   },
   "outputs": [
    {
     "data": {
      "text/plain": [
       "0000010"
      ]
     },
     "execution_count": 11,
     "metadata": {},
     "output_type": "execute_result"
    }
   ],
   "source": [
    "BitStream(1,rice(b=5,signed=True))"
   ]
  },
  {
   "cell_type": "code",
   "execution_count": 13,
   "metadata": {
    "collapsed": false
   },
   "outputs": [
    {
     "name": "stdout",
     "output_type": "stream",
     "text": [
      "0 779\n",
      "1 408\n",
      "2 230\n",
      "3 147\n",
      "4 114\n",
      "5 105\n",
      "6 107\n",
      "7 115\n",
      "8 127\n"
     ]
    }
   ],
   "source": [
    "for b in range(0,9):\n",
    "    print b, len(BitStream(frame, rice(signed=False, b=b)))"
   ]
  },
  {
   "cell_type": "markdown",
   "metadata": {},
   "source": [
    "Rice Amplitude Coder (Audio)\n",
    "================"
   ]
  },
  {
   "cell_type": "code",
   "execution_count": 77,
   "metadata": {
    "collapsed": false
   },
   "outputs": [
    {
     "data": {
      "image/png": "[encoded data removed]",
      "text/plain": [
       "<matplotlib.figure.Figure at 0x7f9e2456ead0>"
      ]
     },
     "metadata": {},
     "output_type": "display_data"
    }
   ],
   "source": [
    "df = 44100.0; dt = 1.0 / df\n",
    "f = 440.0\n",
    "#t = r_[0:0.1:dt] # 0.1 sec of data\n",
    "#data = sin(2*pi*f*t)\n",
    "data = audio.io.record(1.0, df=df)[0]\n",
    "plot(data)\n",
    "data2 = wave.read(wave.write(data))"
   ]
  },
  {
   "cell_type": "code",
   "execution_count": 78,
   "metadata": {
    "collapsed": false
   },
   "outputs": [
    {
     "name": "stdout",
     "output_type": "stream",
     "text": [
      "int16\n",
      "44100\n"
     ]
    }
   ],
   "source": [
    "data3 = wave.read(wave.write(data), scale=False)\n",
    "print data3.dtype\n",
    "data = data3[0]\n",
    "print len(data)"
   ]
  },
  {
   "cell_type": "code",
   "execution_count": 79,
   "metadata": {
    "collapsed": false
   },
   "outputs": [
    {
     "name": "stdout",
     "output_type": "stream",
     "text": [
      "12\n"
     ]
    }
   ],
   "source": [
    "r = rice.from_frame(data, signed=True) # near 15 ?\n",
    "print r.b"
   ]
  },
  {
   "cell_type": "code",
   "execution_count": 80,
   "metadata": {
    "collapsed": false
   },
   "outputs": [
    {
     "name": "stdout",
     "output_type": "stream",
     "text": [
      "705600\n",
      "647279\n"
     ]
    }
   ],
   "source": [
    "stream = BitStream(data, r)\n",
    "print len(data) * 16\n",
    "print len(stream) \n"
   ]
  },
  {
   "cell_type": "code",
   "execution_count": 81,
   "metadata": {
    "collapsed": false
   },
   "outputs": [
    {
     "name": "stdout",
     "output_type": "stream",
     "text": [
      "-32768\n"
     ]
    },
    {
     "data": {
      "image/png": "[encoded data removed]",
      "text/plain": [
       "<matplotlib.figure.Figure at 0x7f9e243823d0>"
      ]
     },
     "metadata": {},
     "output_type": "display_data"
    }
   ],
   "source": [
    "close()\n",
    "hist(abs(data.astype(int32)))\n",
    "# negative values of abs(data) ? WTF!!!\n",
    "print abs(int16(-2**15)) # overflow: abs output is a int16!"
   ]
  },
  {
   "cell_type": "code",
   "execution_count": 49,
   "metadata": {
    "collapsed": false
   },
   "outputs": [
    {
     "name": "stdout",
     "output_type": "stream",
     "text": [
      "59956\n"
     ]
    },
    {
     "data": {
      "text/plain": [
       "(array([  282.,   284.,   288.,   300.,   316.,   336.,   372.,   424.,\n",
       "          544.,  1264.]),\n",
       " array([    0. ,   327.7,   655.4,   983.1,  1310.8,  1638.5,  1966.2,\n",
       "         2293.9,  2621.6,  2949.3,  3277. ]),\n",
       " <a list of 10 Patch objects>)"
      ]
     },
     "execution_count": 49,
     "metadata": {},
     "output_type": "execute_result"
    },
    {
     "data": {
      "image/png": "[encoded data removed]",
      "text/plain": [
       "<matplotlib.figure.Figure at 0x7f9e24591190>"
      ]
     },
     "metadata": {},
     "output_type": "display_data"
    }
   ],
   "source": [
    "df = 44100.0; dt = 1.0 / df\n",
    "f = 440.0\n",
    "t = r_[0:0.1:dt] # 0.1 sec of data\n",
    "data = 0.1*sin(2*pi*f*t)\n",
    "data = wave.read(wave.write(data), scale=False)[0]\n",
    "print len(BitStream(data, rice.from_frame(data, signed=True)))\n",
    "hist(abs(data))"
   ]
  },
  {
   "cell_type": "markdown",
   "metadata": {},
   "source": [
    "Differential Rice Coder\n",
    "============="
   ]
  },
  {
   "cell_type": "code",
   "execution_count": 58,
   "metadata": {
    "collapsed": true
   },
   "outputs": [],
   "source": [
    "df = 44100.0; dt = 1.0 / df\n",
    "f = 440.0\n",
    "t = r_[0:0.1:dt] # 0.1 sec of data\n",
    "#data = sin(2*pi*f*t)\n",
    "#data = wave.read(wave.write(data), scale=False)[0]"
   ]
  },
  {
   "cell_type": "code",
   "execution_count": 82,
   "metadata": {
    "collapsed": false
   },
   "outputs": [
    {
     "name": "stdout",
     "output_type": "stream",
     "text": [
      "44100 44099\n"
     ]
    }
   ],
   "source": [
    "ddata = diff(data)\n",
    "print len(data), len(ddata)"
   ]
  },
  {
   "cell_type": "code",
   "execution_count": 83,
   "metadata": {
    "collapsed": false
   },
   "outputs": [
    {
     "name": "stdout",
     "output_type": "stream",
     "text": [
      "44100 44100\n"
     ]
    }
   ],
   "source": [
    "ddata = diff(r_[0,data]) # coding of the first value\n",
    "print len(data), len(ddata)"
   ]
  },
  {
   "cell_type": "code",
   "execution_count": 84,
   "metadata": {
    "collapsed": false
   },
   "outputs": [
    {
     "data": {
      "text/plain": [
       "(array([  3.08580000e+04,   9.10300000e+03,   2.15300000e+03,\n",
       "          1.15400000e+03,   6.16000000e+02,   1.76000000e+02,\n",
       "          3.60000000e+01,   2.00000000e+00,   1.00000000e+00,\n",
       "          1.00000000e+00]),\n",
       " array([    0. ,   579.9,  1159.8,  1739.7,  2319.6,  2899.5,  3479.4,\n",
       "         4059.3,  4639.2,  5219.1,  5799. ]),\n",
       " <a list of 10 Patch objects>)"
      ]
     },
     "execution_count": 84,
     "metadata": {},
     "output_type": "execute_result"
    },
    {
     "data": {
      "image/png": "[encoded data removed]",
      "text/plain": [
       "<matplotlib.figure.Figure at 0x7f9e24239a90>"
      ]
     },
     "metadata": {},
     "output_type": "display_data"
    }
   ],
   "source": [
    "hist(abs(ddata))"
   ]
  },
  {
   "cell_type": "code",
   "execution_count": 85,
   "metadata": {
    "collapsed": false
   },
   "outputs": [
    {
     "name": "stdout",
     "output_type": "stream",
     "text": [
      "8\n",
      "508118\n"
     ]
    }
   ],
   "source": [
    "r = rice.from_frame(ddata, signed=True)\n",
    "print r.b\n",
    "print len(BitStream(ddata, r))"
   ]
  },
  {
   "cell_type": "code",
   "execution_count": 67,
   "metadata": {
    "collapsed": false
   },
   "outputs": [
    {
     "data": {
      "text/plain": [
       "True"
      ]
     },
     "execution_count": 67,
     "metadata": {},
     "output_type": "execute_result"
    }
   ],
   "source": [
    "idata = cumsum(ddata)\n",
    "all(data == idata)"
   ]
  },
  {
   "cell_type": "code",
   "execution_count": 86,
   "metadata": {
    "collapsed": false
   },
   "outputs": [
    {
     "name": "stdout",
     "output_type": "stream",
     "text": [
      "7\n",
      "430724\n"
     ]
    }
   ],
   "source": [
    "dddata = diff(r_[0, diff(r_[0, data])])\n",
    "r = rice.from_frame(dddata, signed=True)\n",
    "print r.b\n",
    "print len(BitStream(dddata, r))"
   ]
  },
  {
   "cell_type": "code",
   "execution_count": 72,
   "metadata": {
    "collapsed": false
   },
   "outputs": [
    {
     "data": {
      "text/plain": [
       "True"
      ]
     },
     "execution_count": 72,
     "metadata": {},
     "output_type": "execute_result"
    }
   ],
   "source": [
    "iidata = cumsum(cumsum(dddata))\n",
    "all(data == iidata)"
   ]
  },
  {
   "cell_type": "code",
   "execution_count": null,
   "metadata": {
    "collapsed": true
   },
   "outputs": [],
   "source": []
  }
 ],
 "metadata": {
  "kernelspec": {
   "display_name": "Python 2",
   "language": "python",
   "name": "python2"
  },
  "language_info": {
   "codemirror_mode": {
    "name": "ipython",
    "version": 2
   },
   "file_extension": ".py",
   "mimetype": "text/x-python",
   "name": "python",
   "nbconvert_exporter": "python",
   "pygments_lexer": "ipython2",
   "version": "2.7.12"
  }
 },
 "nbformat": 4,
 "nbformat_minor": 2
}
